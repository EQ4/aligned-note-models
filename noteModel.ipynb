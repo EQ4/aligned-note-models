{
 "cells": [
  {
   "cell_type": "code",
   "execution_count": 1,
   "metadata": {
    "collapsed": false
   },
   "outputs": [],
   "source": [
    "import os\n",
    "import json\n",
    "\n",
    "from alignednotemodel import alignednotemodel"
   ]
  },
  {
   "cell_type": "code",
   "execution_count": 2,
   "metadata": {
    "collapsed": true
   },
   "outputs": [],
   "source": [
    "folder = './ussak--sazsemaisi--aksaksemai----dede_salih_efendi/'\n",
    "pitchfile = os.path.join(folder, 'pitch.json')\n",
    "notefile = os.path.join(folder, 'alignedNotes.json')\n",
    "\n",
    "modelsavefile = os.path.join(folder, 'noteModels.json')"
   ]
  },
  {
   "cell_type": "code",
   "execution_count": 3,
   "metadata": {
    "collapsed": false
   },
   "outputs": [],
   "source": [
    "pitch = json.load(open(pitchfile, 'r'))\n",
    "alignednotes = json.load(open(notefile, 'r'))['notes']"
   ]
  },
  {
   "cell_type": "code",
   "execution_count": null,
   "metadata": {
    "collapsed": false
   },
   "outputs": [
    {
     "name": "stdout",
     "output_type": "stream",
     "text": [
      "> /home/sertansenturk/Documents/notaIcra/code/alignedNoteModels/alignednotemodel/alignednotemodel.py(20)getModels()\n",
      "-> tempPitchVals = np.hstack(nn['pitch'][:,1]\n",
      "(Pdb) c\n",
      "> /home/sertansenturk/Documents/notaIcra/code/alignedNoteModels/alignednotemodel/alignednotemodel.py(19)getModels()\n",
      "-> pdb.set_trace()\n",
      "(Pdb) tempPitchVals.size\n",
      "4638\n",
      "(Pdb) len(tempPitchVals)\n",
      "4638\n"
     ]
    }
   ],
   "source": [
    "noteModels = alignednotemodel.getModels(pitch, alignednotes)"
   ]
  },
  {
   "cell_type": "code",
   "execution_count": null,
   "metadata": {
    "collapsed": false
   },
   "outputs": [],
   "source": []
  },
  {
   "cell_type": "code",
   "execution_count": null,
   "metadata": {
    "collapsed": true
   },
   "outputs": [],
   "source": []
  }
 ],
 "metadata": {
  "kernelspec": {
   "display_name": "Python 2",
   "language": "python",
   "name": "python2"
  },
  "language_info": {
   "codemirror_mode": {
    "name": "ipython",
    "version": 2
   },
   "file_extension": ".py",
   "mimetype": "text/x-python",
   "name": "python",
   "nbconvert_exporter": "python",
   "pygments_lexer": "ipython2",
   "version": "2.7.6"
  }
 },
 "nbformat": 4,
 "nbformat_minor": 0
}
